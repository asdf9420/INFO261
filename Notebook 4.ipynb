{
 "cells": [
  {
   "cell_type": "markdown",
   "metadata": {},
   "source": [
    "# Notebook 4 - Pricila Badilla"
   ]
  },
  {
   "cell_type": "markdown",
   "metadata": {},
   "source": [
    "## Ejercicios\n",
    "## 1) y 2)\n",
    "\n",
    "BD rescatada del ejercicio Notebook 3. \n",
    "\n",
    "Aquí se puede consultar los datos de todas las personas registradas en la base de datos Valdivia, y obtener los datos en función de un nombre o RUT. Otra función es la consulta de todas las categorias, dando como resultado el nombre de cada una y el id del lugar al que representa. También se puede filtrar los lugares dependiendo del nombre de categoría."
   ]
  },
  {
   "cell_type": "code",
   "execution_count": 2,
   "metadata": {},
   "outputs": [
    {
     "name": "stderr",
     "output_type": "stream",
     "text": [
      " * Running on http://127.0.0.1:1234/ (Press CTRL+C to quit)\n"
     ]
    }
   ],
   "source": [
    "import flask\n",
    "import json\n",
    "from flask import request, jsonify\n",
    "import mysql.connector\n",
    "\n",
    "# Creación de una nueva aplicación web\n",
    "app = flask.Flask(__name__)\n",
    "\n",
    "# Conexión al SGBD\n",
    "  ## reemplazar 'root' por el password del usuario administrador de MySQL\n",
    "conn = mysql.connector.connect(user=\"root\",host=\"localhost\",password=\"94209420\")\n",
    "cursor = conn.cursor()\n",
    "cursor.execute(\"USE valdivia\")\n",
    "\n",
    "# Definición de las rutas\n",
    "\n",
    "@app.route('/', methods=['GET'])\n",
    "def home():\n",
    "    return '''<h1>API Valdivia</h1>\n",
    "<p>Un prototipo de API para la base de datos \"Valdivia\".</p>'''\n",
    "\n",
    "@app.errorhandler(404)\n",
    "def page_not_found(e):\n",
    "    return \"<h1>404</h1><p>The resource could not be found.</p>\", 404\n",
    "\n",
    "@app.route('/api_valdivia/v1/resources/persona/all', methods=['GET'])\n",
    "def api_all():\n",
    "    result=cursor.execute('SELECT nombre,pk_RUT,edad FROM persona;')\n",
    "    all_personas =cursor.fetchall()\n",
    "    ## Conservar el nombre de los atributos\n",
    "    row_headers=[x[0] for x in cursor.description]\n",
    "    ## Transformar resultados en datos JSON\n",
    "    json_data=[]\n",
    "    for result in all_personas:\n",
    "        json_data.append(dict(zip(row_headers,result)))\n",
    "    return jsonify(json_data)\n",
    "\n",
    "@app.route('/api_valdivia/v1/resources/categoria/all', methods=['GET'])\n",
    "def api_categoria():\n",
    "    result=cursor.execute('SELECT * FROM categoria;')\n",
    "    all_categoria =cursor.fetchall()\n",
    "    ## Conservar el nombre de los atributos\n",
    "    row_headers=[x[0] for x in cursor.description]\n",
    "    ## Transformar resultados en datos JSON\n",
    "    json_data=[]\n",
    "    for result in all_categoria:\n",
    "        json_data.append(dict(zip(row_headers,result)))\n",
    "    return jsonify(json_data)\n",
    "\n",
    "@app.route('/api_valdivia/v1/resources/categoria', methods=['GET'])\n",
    "def api_filter():\n",
    "    ## Definir parametros posibles\n",
    "    query_parameters = request.args\n",
    "\n",
    "    nombre_cat = query_parameters.get('nombre_cat')\n",
    "    \n",
    "    ##Construir la consulta SQL según parametros\n",
    "    query = \"SELECT nombre_cat, pk_lugar FROM categoria WHERE\"\n",
    "    to_filter = []\n",
    "\n",
    "    if nombre_cat:\n",
    "        query += ' nombre_cat=%s AND'\n",
    "        to_filter.append(nombre_cat)\n",
    "    #if not (release_year):\n",
    "    #    return page_not_found(404)\n",
    "\n",
    "    query = query[:-4] + ';'\n",
    "    \n",
    "    print(query)\n",
    "    print(to_filter)\n",
    "    \n",
    "    ## Consultar\n",
    "    results=cursor.execute(query,to_filter)\n",
    "    some_films =cursor.fetchall()\n",
    "    ## Conservar el nombre de los atributos\n",
    "    row_headers=[x[0] for x in cursor.description]\n",
    "    ## Transformar resultados en datos JSON\n",
    "    json_data=[]\n",
    "    for result in some_films:\n",
    "        json_data.append(dict(zip(row_headers,result)))\n",
    "    return jsonify(json_data)\n",
    "\n",
    "\n",
    "@app.route('/api_valdivia/v1/resources/persona', methods=['GET'])\n",
    "def api_filterC():\n",
    "    ## Definir parametros posibles\n",
    "    query_parameters = request.args\n",
    "\n",
    "    nombre = query_parameters.get('nombre')\n",
    "    pk_RUT = query_parameters.get('pk_RUT')\n",
    "    \n",
    "    ##Construir la consulta SQL según parametros\n",
    "    query = \"SELECT * FROM persona WHERE\"\n",
    "    to_filter = []\n",
    "\n",
    "    if nombre:\n",
    "        query += ' nombre=%s AND'\n",
    "        to_filter.append(nombre)\n",
    "    if pk_RUT:\n",
    "        query+= ' pk_RUT=%s AND'\n",
    "        to_filter.append(pk_RUT)\n",
    "    #if not (release_year):\n",
    "    #    return page_not_found(404)\n",
    "\n",
    "    query = query[:-4] + ';'\n",
    "    \n",
    "    print(query)\n",
    "    print(to_filter)\n",
    "    \n",
    "    ## Consultar\n",
    "    results=cursor.execute(query,to_filter)\n",
    "    some_films =cursor.fetchall()\n",
    "    ## Conservar el nombre de los atributos\n",
    "    row_headers=[x[0] for x in cursor.description]\n",
    "    ## Transformar resultados en datos JSON\n",
    "    json_data=[]\n",
    "    for result in some_films:\n",
    "        json_data.append(dict(zip(row_headers,result)))\n",
    "    return jsonify(json_data)\n",
    "\n",
    "\n",
    "\n",
    "app.run(debug=False,port=1234)"
   ]
  },
  {
   "attachments": {},
   "cell_type": "markdown",
   "metadata": {},
   "source": [
    "### Consulta todas personas\n",
    "\n",
    "![1.png](https://image.ibb.co/jctH00/1.png)"
   ]
  },
  {
   "attachments": {},
   "cell_type": "markdown",
   "metadata": {},
   "source": [
    "### Consulta por una Mabel Montes\n",
    "\n",
    "![2.png](https://image.ibb.co/bJ3jf0/2.png)"
   ]
  },
  {
   "attachments": {},
   "cell_type": "markdown",
   "metadata": {},
   "source": [
    "### Consula lugares que incluyen categoría \"comercio\"\n",
    "\n",
    "![3.png](https://image.ibb.co/dBPeDL/3.png)"
   ]
  },
  {
   "cell_type": "markdown",
   "metadata": {},
   "source": [
    "## 3) ¿Cómo podrían desplegar su API más allá de su computador local?\n",
    "\n",
    "No todas las APIs web son accesibles libremente y sin restricción, en la mayoría existe una autetificación del usuario. Una de las formas en por *access key* que identifica al usuario de forma única. De esta manera se podrá desplegar una API sin necesidad de ser *root* por medio de una identificación."
   ]
  },
  {
   "cell_type": "markdown",
   "metadata": {
    "collapsed": true
   },
   "source": [
    "## 4) ¿Observan algunas limitaciones al momento de crear una API web basada en Mysql?\n",
    "\n",
    "Con una BD relacional ocurre un problema cuando nos encontramos con nuevos evolutivos que obliguen a realizar modificaciones en el modelo conceptual de la BD. Mysql siendo una BD relacional tiene este tipo de limitaciones. En cambio, en una BD no relacional, como MongoDB, no tiene por qué existir ningún tipo de relación entre los datos (aunque sí puede), se tiene una BD sin un esquema estrictamente definido. Las BD relacionales trabajan con formato JSON y representan mayor flexibilidad al cambio, en comparación con una BD relacional como Mysql. "
   ]
  },
  {
   "cell_type": "markdown",
   "metadata": {},
   "source": [
    "## 5) ¿Qué es el movimiento Open Data? ¿En qué sentido podría aportar a la ciudad de Valdivia?\n",
    "\n",
    "Open Data son datos que pueden ser utilizados, reutilizados y redistribuidos libremente por cualquier persona. Representan transparencia.\n",
    "\n",
    "También se relacionan con poder ofrecer a la ciudadanía, en este caso valdiviana, todos los conocimientos necesarios que resulten en un mayor aprovechamiento de los recursos, y así enriquecer su conocimiento para promover una mayor participación. Esto llevaría a la innovación y a enfocarse en los problemas de la ciudad conectando todos sus actores para su mejora.  "
   ]
  },
  {
   "cell_type": "code",
   "execution_count": null,
   "metadata": {
    "collapsed": true
   },
   "outputs": [],
   "source": []
  }
 ],
 "metadata": {
  "kernelspec": {
   "display_name": "Python 3",
   "language": "python",
   "name": "python3"
  },
  "language_info": {
   "codemirror_mode": {
    "name": "ipython",
    "version": 3
   },
   "file_extension": ".py",
   "mimetype": "text/x-python",
   "name": "python",
   "nbconvert_exporter": "python",
   "pygments_lexer": "ipython3",
   "version": "3.6.3"
  }
 },
 "nbformat": 4,
 "nbformat_minor": 2
}
